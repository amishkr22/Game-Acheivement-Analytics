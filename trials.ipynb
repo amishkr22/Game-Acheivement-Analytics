{
 "cells": [
  {
   "cell_type": "code",
   "execution_count": 6,
   "metadata": {},
   "outputs": [],
   "source": [
    "import pandas as pd\n",
    "import psycopg2\n",
    "from faker import Faker\n",
    "import random\n",
    "from datetime import datetime, timedelta\n",
    "import matplotlib.pyplot as plt\n",
    "import uuid"
   ]
  },
  {
   "cell_type": "markdown",
   "metadata": {},
   "source": [
    "# Generating fake data"
   ]
  },
  {
   "cell_type": "code",
   "execution_count": 7,
   "metadata": {},
   "outputs": [
    {
     "name": "stdout",
     "output_type": "stream",
     "text": [
      "Players Data:\n",
      "   player_id        username        region  playtime   join_date\n",
      "0          1  harriskathleen  Turkmenistan       382  1975-07-20\n",
      "1          2    taylordalton     Singapore        60  2023-03-25\n",
      "2          3  christinapratt        Cyprus        26  1994-03-15\n",
      "3          4      walshkevin       Andorra       414  1971-05-12\n",
      "4          5        angela00      Zimbabwe       160  2019-05-20\n",
      "\n",
      "Games Data:\n",
      "   game_id                                   title   genre  \\\n",
      "0        1              Extended composite success     RPG   \n",
      "1        2            Versatile radical encryption  Sports   \n",
      "2        3  Centralized non-volatile system engine  Sports   \n",
      "3        4           Public-key explicit help-desk  Sports   \n",
      "4        5           Organized even-keeled adapter  Sports   \n",
      "\n",
      "                  developer release_date  \n",
      "0  Maddox, Mendez and Lopez   2001-10-25  \n",
      "1         Rodriguez-Stanley   1985-11-15  \n",
      "2                Murphy PLC   2019-06-16  \n",
      "3               Travis-Wall   1972-05-18  \n",
      "4           Phillips-Miller   2024-10-28  \n",
      "\n",
      "Achievements Data:\n",
      "   achievement_id        name                                    description  \\\n",
      "0               1         not    Who individual total open institution like.   \n",
      "1               2  government                      Over smile that price as.   \n",
      "2               3     contain           Me sing education example name born.   \n",
      "3               4     control  Yet carry former control remain sign capital.   \n",
      "4               5         end         Candidate art central note find water.   \n",
      "\n",
      "  difficulty  reward  \n",
      "0       Hard      84  \n",
      "1       Hard      67  \n",
      "2     Medium      40  \n",
      "3       Easy      80  \n",
      "4       Hard      28  \n",
      "\n",
      "Time Data:\n",
      "                                time_id                  timestamp  hour  day  \\\n",
      "0  1c050d71-fa51-4c5c-b5fc-c67eb3800e19 2024-07-24 15:24:52.782874    19   27   \n",
      "1  a9949aa0-f6f3-4ac3-9493-3f268d0caf85 2024-11-04 15:24:52.783874    13    1   \n",
      "2  df940ac1-a091-4b19-b828-1b609763e7d1 2024-09-08 15:24:52.783874    19   18   \n",
      "3  417f1f86-f396-40fa-aaa8-401c90335de5 2025-01-16 15:24:52.783874     7    3   \n",
      "4  e32f2fc2-f4cf-459a-8160-a33fdf4bad87 2024-02-05 15:24:52.783874    11   23   \n",
      "\n",
      "   month  year  \n",
      "0      1  2022  \n",
      "1      7  2021  \n",
      "2     12  2021  \n",
      "3      9  2021  \n",
      "4      9  2020  \n",
      "\n",
      "Achievement Facts Data:\n",
      "   player_id  game_id  achievement_id                               time_id  \\\n",
      "0         75        4               3  3ebc0d98-d580-49e3-9c35-c9cfc4198443   \n",
      "1         30        6               6  b03bac87-e9ea-48c0-9332-c230d20d49b3   \n",
      "2         15        2              45  b37a1015-7910-4b55-99ec-9191be951dc7   \n",
      "3         83        1              45  f9281ed6-52fe-47c6-a88f-a0ec28281471   \n",
      "4         89        6              46  7c894e96-3637-4ccd-a9ce-c7c09e82745d   \n",
      "\n",
      "   completion_time  score_earned  \n",
      "0             1712            41  \n",
      "1             1250            58  \n",
      "2             2344            42  \n",
      "3             1281            68  \n",
      "4             1124            91  \n"
     ]
    }
   ],
   "source": [
    "# Initialize Faker\n",
    "fake = Faker()\n",
    "\n",
    "# Generate player data\n",
    "players = [\n",
    "    {'player_id': i, \n",
    "    'username': fake.user_name(), \n",
    "    'region': fake.country(), \n",
    "    'playtime': random.randint(10, 500), \n",
    "    'join_date': fake.date()\n",
    "    } for i in range(1, 101)]\n",
    "players_df = pd.DataFrame(players)\n",
    "\n",
    "# Generate game data\n",
    "games = [\n",
    "    {'game_id': i, \n",
    "     'title': fake.catch_phrase(), \n",
    "     'genre': random.choice(['Action', 'RPG', 'Strategy', 'Sports']), \n",
    "     'developer': fake.company(), \n",
    "     'release_date': fake.date()\n",
    "     } for i in range(1, 11)]\n",
    "games_df = pd.DataFrame(games)\n",
    "\n",
    "# Generate achievement data\n",
    "achievements = [{\n",
    "    'achievement_id': i, \n",
    "    'name': fake.word(), \n",
    "    'description': fake.sentence(), \n",
    "    'difficulty': random.choice(['Easy', 'Medium', 'Hard']), \n",
    "    'reward': random.randint(10, 100)\n",
    "} for i in range(1, 51)]\n",
    "achievements_df = pd.DataFrame(achievements)\n",
    "\n",
    "# Generate time data\n",
    "timestamps = [\n",
    "    {'time_id': str(uuid.uuid4()),  # Generate a unique UUID\n",
    "    'timestamp': datetime.now() - timedelta(days=random.randint(1, 365)),  # Random timestamp\n",
    "    'hour': random.randint(0, 23),\n",
    "    'day': random.randint(1, 31),\n",
    "    'month': random.randint(1, 12),\n",
    "    'year': random.randint(2020, 2023)\n",
    "    } for _ in range(1000)]\n",
    "time_df = pd.DataFrame(timestamps)\n",
    "\n",
    "# Generate achievement fact data\n",
    "achievement_facts = [{\n",
    "    'player_id': random.randint(1, 100),\n",
    "    'game_id': random.randint(1, 10),\n",
    "    'achievement_id': random.randint(1, 50),\n",
    "    'time_id': random.choice(timestamps)['time_id'],  # Use time_id instead of timestamp\n",
    "    'completion_time': random.randint(60, 3600),\n",
    "    'score_earned': random.randint(10, 100)\n",
    "} for _ in range(1000)]\n",
    "achievement_facts_df = pd.DataFrame(achievement_facts)\n",
    "\n",
    "# Display sample data\n",
    "print(\"Players Data:\")\n",
    "print(players_df.head())\n",
    "\n",
    "print(\"\\nGames Data:\")\n",
    "print(games_df.head())\n",
    "\n",
    "print(\"\\nAchievements Data:\")\n",
    "print(achievements_df.head())\n",
    "\n",
    "print(\"\\nTime Data:\")\n",
    "print(time_df.head())\n",
    "\n",
    "print(\"\\nAchievement Facts Data:\")\n",
    "print(achievement_facts_df.head())"
   ]
  },
  {
   "cell_type": "markdown",
   "metadata": {},
   "source": [
    "# Table creation in database"
   ]
  },
  {
   "cell_type": "code",
   "execution_count": 13,
   "metadata": {},
   "outputs": [
    {
     "name": "stdout",
     "output_type": "stream",
     "text": [
      "Tables created successfully!\n"
     ]
    }
   ],
   "source": [
    "# Connect to PostgreSQL\n",
    "conn = psycopg2.connect(\n",
    "    dbname=\"gaming_analytics\",\n",
    "    user=\"postgres\",  # Replace with your username\n",
    "    password=\"Amish@22\",  # Replace with your password\n",
    "    host=\"localhost\"\n",
    ")\n",
    "cur = conn.cursor()\n",
    "\n",
    "# Create tables\n",
    "cur.execute(\"\"\"\n",
    "    CREATE TABLE IF NOT EXISTS player_dim (\n",
    "        player_id SERIAL PRIMARY KEY,\n",
    "        username VARCHAR(100),\n",
    "        region VARCHAR(100),\n",
    "        playtime INT,\n",
    "        join_date DATE\n",
    "    );\n",
    "\"\"\")\n",
    "\n",
    "cur.execute(\"\"\"\n",
    "    CREATE TABLE IF NOT EXISTS game_dim (\n",
    "        game_id SERIAL PRIMARY KEY,\n",
    "        title VARCHAR(100),\n",
    "        genre VARCHAR(50),\n",
    "        developer VARCHAR(100),\n",
    "        release_date DATE\n",
    "    );\n",
    "\"\"\")\n",
    "\n",
    "cur.execute(\"\"\"\n",
    "    CREATE TABLE IF NOT EXISTS achievement_dim (\n",
    "        achievement_id SERIAL PRIMARY KEY,\n",
    "        name VARCHAR(100),\n",
    "        description TEXT,\n",
    "        difficulty VARCHAR(50),\n",
    "        reward INT\n",
    "    );\n",
    "\"\"\")\n",
    "\n",
    "cur.execute(\"\"\"\n",
    "    CREATE TABLE IF NOT EXISTS time_dim (\n",
    "        time_id UUID PRIMARY KEY DEFAULT gen_random_uuid(),  -- UUID as primary key\n",
    "        timestamp TIMESTAMP,  -- Regular column for analysis\n",
    "        hour INT,\n",
    "        day INT,\n",
    "        month INT,\n",
    "        year INT\n",
    "    );\n",
    "\"\"\")\n",
    "\n",
    "cur.execute(\"\"\"\n",
    "    CREATE TABLE IF NOT EXISTS achievement_fact (\n",
    "        achievement_fact_id SERIAL PRIMARY KEY,\n",
    "        player_id INT REFERENCES player_dim(player_id),\n",
    "        game_id INT REFERENCES game_dim(game_id),\n",
    "        achievement_id INT REFERENCES achievement_dim(achievement_id),\n",
    "        time_id UUID REFERENCES time_dim(time_id),  -- Reference time_id instead of timestamp\n",
    "        completion_time INT,\n",
    "        score_earned INT\n",
    "    );\n",
    "\"\"\")\n",
    "\n",
    "conn.commit()\n",
    "print(\"Tables created successfully!\")"
   ]
  },
  {
   "cell_type": "markdown",
   "metadata": {},
   "source": [
    "# Inserting generated data into each Tables"
   ]
  },
  {
   "cell_type": "code",
   "execution_count": 9,
   "metadata": {},
   "outputs": [
    {
     "name": "stdout",
     "output_type": "stream",
     "text": [
      "Data loaded into PostgreSQL!\n"
     ]
    }
   ],
   "source": [
    "# Load player data\n",
    "for _, row in players_df.iterrows():\n",
    "    cur.execute(\"INSERT INTO player_dim (username, region, playtime, join_date) VALUES (%s, %s, %s, %s)\",\n",
    "                (row['username'], row['region'], row['playtime'], row['join_date']))\n",
    "conn.commit()\n",
    "\n",
    "# Load game data\n",
    "for _, row in games_df.iterrows():\n",
    "    cur.execute(\"INSERT INTO game_dim (title, genre, developer, release_date) VALUES (%s, %s, %s, %s)\",\n",
    "                (row['title'], row['genre'], row['developer'], row['release_date']))\n",
    "conn.commit()\n",
    "\n",
    "# Load achievement data\n",
    "for _, row in achievements_df.iterrows():\n",
    "    cur.execute(\"INSERT INTO achievement_dim (name, description, difficulty, reward) VALUES (%s, %s, %s, %s)\",\n",
    "                (row['name'], row['description'], row['difficulty'], row['reward']))\n",
    "conn.commit()\n",
    "\n",
    "# Load time data\n",
    "for _, row in time_df.iterrows():\n",
    "    cur.execute(\"\"\"\n",
    "        INSERT INTO time_dim (time_id, timestamp, hour, day, month, year)\n",
    "        VALUES (%s, %s, %s, %s, %s, %s);\n",
    "    \"\"\", (row['time_id'], row['timestamp'], row['hour'], row['day'], row['month'], row['year']))\n",
    "conn.commit()\n",
    "\n",
    "# Load achievement fact data\n",
    "for _, row in achievement_facts_df.iterrows():\n",
    "    cur.execute(\"\"\"\n",
    "        INSERT INTO achievement_fact (player_id, game_id, achievement_id, time_id, completion_time, score_earned)\n",
    "        VALUES (%s, %s, %s, %s, %s, %s);\n",
    "    \"\"\", (row['player_id'], row['game_id'], row['achievement_id'], row['time_id'], row['completion_time'], row['score_earned']))\n",
    "conn.commit()\n",
    "\n",
    "print(\"Data loaded into PostgreSQL!\")"
   ]
  },
  {
   "cell_type": "markdown",
   "metadata": {},
   "source": [
    "# Query Check"
   ]
  },
  {
   "cell_type": "code",
   "execution_count": 20,
   "metadata": {},
   "outputs": [
    {
     "name": "stdout",
     "output_type": "stream",
     "text": [
      "Top Players by Total Score:\n",
      "          username  total_score\n",
      "0        payneryan          974\n",
      "1            roy59          956\n",
      "2  christinadaniel          920\n",
      "3        deborah84          918\n",
      "4           jose77          909\n",
      "5         asimpson          889\n",
      "6    martincrystal          878\n",
      "7      simmonsalan          877\n",
      "8   christinapratt          855\n",
      "9          rgarcia          848\n"
     ]
    },
    {
     "name": "stderr",
     "output_type": "stream",
     "text": [
      "C:\\Users\\amish\\AppData\\Local\\Temp\\ipykernel_7236\\53797143.py:10: UserWarning: pandas only supports SQLAlchemy connectable (engine/connection) or database string URI or sqlite3 DBAPI2 connection. Other DBAPI2 objects are not tested. Please consider using SQLAlchemy.\n",
      "  top_players_df = pd.read_sql(query, conn)\n"
     ]
    }
   ],
   "source": [
    "# Query top players by total score\n",
    "query = \"\"\"\n",
    "SELECT p.username, SUM(af.score_earned) AS total_score\n",
    "FROM achievement_fact af\n",
    "JOIN player_dim p ON af.player_id = p.player_id\n",
    "GROUP BY p.username\n",
    "ORDER BY total_score DESC\n",
    "LIMIT 10;\n",
    "\"\"\"\n",
    "top_players_df = pd.read_sql(query, conn)\n",
    "print(\"Top Players by Total Score:\")\n",
    "print(top_players_df)"
   ]
  },
  {
   "cell_type": "markdown",
   "metadata": {},
   "source": [
    "# Ploting"
   ]
  },
  {
   "cell_type": "code",
   "execution_count": 21,
   "metadata": {},
   "outputs": [
    {
     "data": {
      "image/png": "[encoded data removed]",
      "text/plain": [
       "<Figure size 640x480 with 1 Axes>"
      ]
     },
     "metadata": {},
     "output_type": "display_data"
    }
   ],
   "source": [
    "# Plot top players\n",
    "top_players_df.plot(kind='bar', x='username', y='total_score', title='Top Players by Total Score')\n",
    "plt.xlabel('Username')\n",
    "plt.ylabel('Total Score')\n",
    "plt.show()"
   ]
  },
  {
   "cell_type": "code",
   "execution_count": 12,
   "metadata": {},
   "outputs": [
    {
     "name": "stdout",
     "output_type": "stream",
     "text": [
      "Connection closed.\n"
     ]
    }
   ],
   "source": [
    "# Close the connection\n",
    "cur.close()\n",
    "conn.close()\n",
    "print(\"Connection closed.\")"
   ]
  },
  {
   "cell_type": "code",
   "execution_count": null,
   "metadata": {},
   "outputs": [],
   "source": []
  }
 ],
 "metadata": {
  "kernelspec": {
   "display_name": "game_sql",
   "language": "python",
   "name": "python3"
  },
  "language_info": {
   "codemirror_mode": {
    "name": "ipython",
    "version": 3
   },
   "file_extension": ".py",
   "mimetype": "text/x-python",
   "name": "python",
   "nbconvert_exporter": "python",
   "pygments_lexer": "ipython3",
   "version": "3.10.16"
  }
 },
 "nbformat": 4,
 "nbformat_minor": 2
}
